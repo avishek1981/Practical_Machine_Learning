{
  "nbformat": 4,
  "nbformat_minor": 0,
  "metadata": {
    "colab": {
      "provenance": [],
      "mount_file_id": "1p0Dn6jSELPzidLXuj7BW0RZ-lV_Xcz_j",
      "authorship_tag": "ABX9TyPiGRNh2woQI+/7qerFe0ZA",
      "include_colab_link": true
    },
    "kernelspec": {
      "name": "python3",
      "display_name": "Python 3"
    },
    "language_info": {
      "name": "python"
    }
  },
  "cells": [
    {
      "cell_type": "markdown",
      "metadata": {
        "id": "view-in-github",
        "colab_type": "text"
      },
      "source": [
        "<a href=\"https://colab.research.google.com/github/avishek1981/Practical_Machine_Learning/blob/master/practice.ipynb\" target=\"_parent\"><img src=\"https://colab.research.google.com/assets/colab-badge.svg\" alt=\"Open In Colab\"/></a>"
      ]
    },
    {
      "cell_type": "code",
      "execution_count": 2,
      "metadata": {
        "colab": {
          "base_uri": "https://localhost:8080/"
        },
        "id": "A-Mmnk_TWsL5",
        "outputId": "1c3fb8ef-a9d6-4353-e2da-bfbb522e0d21"
      },
      "outputs": [
        {
          "output_type": "stream",
          "name": "stdout",
          "text": [
            "Enter the number of siblings \n",
            "5\n",
            "The User has 5 siblings\n"
          ]
        }
      ],
      "source": [
        "ninput = input(\"Enter the number of siblings \\n\")\n",
        "print(\"The User has {} siblings\".format(ninput))"
      ]
    },
    {
      "cell_type": "code",
      "source": [
        "nsibling = int(ninput)\n",
        "siblings = []\n",
        "i = 0\n",
        "while i < nsibling:\n",
        "  nname = input(\"Enter the name of %d siblings \\n\".format(i))\n",
        "  siblings.append(nname)\n",
        "  i=i+1\n",
        "\n",
        "print(\"The name of siblings are\",siblings)"
      ],
      "metadata": {
        "colab": {
          "base_uri": "https://localhost:8080/"
        },
        "id": "6ZKfUCW1YhaJ",
        "outputId": "9fdda7f6-ed40-4835-f652-2a81476d359a"
      },
      "execution_count": 5,
      "outputs": [
        {
          "output_type": "stream",
          "name": "stdout",
          "text": [
            "Enter the name of %d siblings \n",
            "As\n",
            "Enter the name of %d siblings \n",
            "BD\n",
            "Enter the name of %d siblings \n",
            "CE\n",
            "Enter the name of %d siblings \n",
            "FG\n",
            "Enter the name of %d siblings \n",
            "HI\n",
            "The name of siblings are ['As', 'BD', 'CE', 'FG', 'HI']\n"
          ]
        }
      ]
    },
    {
      "cell_type": "code",
      "source": [],
      "metadata": {
        "id": "v2D1m7CvaOHg"
      },
      "execution_count": null,
      "outputs": []
    }
  ]
}